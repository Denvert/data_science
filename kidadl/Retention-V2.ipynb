{
 "cells": [
  {
   "cell_type": "code",
   "execution_count": 295,
   "metadata": {},
   "outputs": [],
   "source": [
    "import pandas as pd\n",
    "import datetime\n",
    "\n",
    "from os import listdir\n",
    "from os.path import isfile, join"
   ]
  },
  {
   "cell_type": "code",
   "execution_count": 296,
   "metadata": {},
   "outputs": [],
   "source": [
    "def get_all_files_to_use(folder_path):\n",
    "    onlyfiles = [f for f in listdir(folder_path) if isfile(join(folder_path, f))]\n",
    "    files_to_use = list(filter(lambda f: 'Retention' in f and 'csv' in f, onlyfiles))\n",
    "    files_to_use = [folder_path + f for f in files_to_use]\n",
    "    \n",
    "    return files_to_use\n",
    "\n",
    "\n",
    "def data_to_df(files_to_use):\n",
    "    # Read all data to dataframe\n",
    "    list_ = []\n",
    "    for file_ in files_to_use:\n",
    "        df = pd.read_csv(file_,index_col=None, header=0)\n",
    "        list_.append(df)\n",
    "\n",
    "    data = pd.concat(list_, axis = 0, ignore_index = True)\n",
    "    \n",
    "    return data\n",
    "\n",
    "\n",
    "def create_id(data, columns_to_use):\n",
    "    # Create new ids for users from existing fields.\n",
    "    # Order in columns_to_use metters (first columns have priority).\n",
    "    if len(columns_to_use) > 1:\n",
    "        first_col = columns_to_use[0]\n",
    "        data['ID'] = data.apply(lambda row: row[first_col] if row[first_col]!='undefined' else row[columns_to_use[1]],\n",
    "                                axis=1)\n",
    "        if len(columns_to_use) > 2:\n",
    "            for col in columns_to_use[2:]:\n",
    "                data['ID'] = data.apply(lambda row: row['ID'] if row['ID']!='undefined' else row[col], axis=1)\n",
    "        return data\n",
    "    \n",
    "    else:\n",
    "        raise ValueError('No columns to use. (There should be > 1 columns in column_to_use)')\n",
    "\n",
    "        \n",
    "def get_ids_and_install_date_pairs(data):\n",
    "    # Returns dict {id: install date}\n",
    "    installs = data[data['Event']=='install_']\n",
    "    installs = installs.sort_values(by=['Date'], ascending=True)\n",
    "    installs = installs.groupby(['ID'])['Date'].first()\n",
    "    installs = installs.to_dict()\n",
    "    try:\n",
    "        installs.pop('nannan')\n",
    "    except:\n",
    "        print('no nannan')\n",
    "    \n",
    "    return installs\n",
    "\n",
    "\n",
    "def days_between(d1, d2):\n",
    "    d1 = datetime.datetime.strptime(d1, \"%Y%m%d\")\n",
    "    d2 = datetime.datetime.strptime(d2, \"%Y%m%d\")\n",
    "    return abs((d2 - d1).days)\n",
    "\n",
    "\n",
    "def filter_rows_by_period(data, period_from_install):\n",
    "    period = {'1 week':[-1,7], '2 week': [7,14], '3 week': [14,21], '4 week': [21,28], \n",
    "              '1 month':[0,30], '2 month':[30,60], '3 month':[60,90]}\n",
    "    data['to_stay'] = data.apply(lambda row: 1 if days_between(row['date_of_install'], row['Date']) \n",
    "                                 <= period[period_from_install][1] and \n",
    "                                 days_between(row['date_of_install'], row['Date']) > period[period_from_install][0]\n",
    "                                 else 0, axis=1)\n",
    "    data = data[data['to_stay']==1]\n",
    "    return data"
   ]
  },
  {
   "cell_type": "code",
   "execution_count": 297,
   "metadata": {},
   "outputs": [],
   "source": [
    "def calculate_retention(folder_path, period_from_install='1 week', times_opened=1):\n",
    "    # Get all file names to use\n",
    "    files_to_use = get_all_files_to_use(folder_path)\n",
    "    \n",
    "    # Read all data to dataframe\n",
    "    data = data_to_df(files_to_use)\n",
    "    \n",
    "    # Leave only necessary columns\n",
    "    data = data[['Date', 'Device Id', 'Ios Devices', 'Android Devices','Email', 'Event']]\n",
    "    \n",
    "    # Transform event names and date format\n",
    "    data['Event'] = data['Event'].apply(lambda s: s.split(' - Unique')[0])\n",
    "    data['Date'] = data['Date'].apply(lambda x: datetime.datetime.strptime(x, '%b %d \\'%y')\n",
    "                                                  .strftime('%Y%m%d'))\n",
    "    \n",
    "    # Create new id based on list of columns\n",
    "    columns_to_id = ['Email', 'Device Id', 'Ios Devices', 'Android Devices']\n",
    "    data = create_id(data, columns_to_id)\n",
    "    \n",
    "    # Define install as \"install\" or \"First App Open\" event\n",
    "    install = ['install', 'First App Open']\n",
    "    data['Event'] = data['Event'].apply(lambda event: 'install_' if event in install else event)\n",
    "    \n",
    "    # Remove unnecessary columns and duplicated rows\n",
    "    data = data[['ID', 'Date', 'Event']]\n",
    "    data = data.drop_duplicates(subset=data.columns, keep='first')\n",
    "    \n",
    "    # Get install dates\n",
    "    installs = get_ids_and_install_date_pairs(data)\n",
    "    data['date_of_install'] = data.apply(lambda row: installs[row['ID']] \n",
    "                                         if row['ID'] in installs.keys()\n",
    "                                         else 'unknown', axis=1)\n",
    "    data = data[data['date_of_install']!= 'unknown']\n",
    "    \n",
    "    # Leave rows from needeed time period\n",
    "    data = filter_rows_by_period(data, period_from_install)\n",
    "    \n",
    "    # Count events (\"App session\") for each ID\n",
    "    data = data[data['Event'] =='App Session']\n",
    "    data = data.groupby(['ID', 'date_of_install'])['Event'].apply(list).reset_index()\n",
    "    data['events_count'] = data['Event'].apply(lambda x: len(x))\n",
    "    \n",
    "    # Leave only users, that opened app >= times_opened\n",
    "    data = data[data['events_count'] >= times_opened]\n",
    "    \n",
    "    # Count users by date\n",
    "    result = data.groupby(['date_of_install'])['ID'].apply(list).reset_index()\n",
    "    result['ID'] = result['ID'].apply(lambda x: len(list(set(x))))\n",
    "    \n",
    "    return result"
   ]
  },
  {
   "cell_type": "code",
   "execution_count": 293,
   "metadata": {},
   "outputs": [
    {
     "name": "stderr",
     "output_type": "stream",
     "text": [
      "/usr/local/lib/python3.5/dist-packages/ipykernel_launcher.py:16: FutureWarning: Sorting because non-concatenation axis is not aligned. A future version\n",
      "of pandas will change to not sort by default.\n",
      "\n",
      "To accept the future behavior, pass 'sort=False'.\n",
      "\n",
      "To retain the current behavior and silence the warning, pass 'sort=True'.\n",
      "\n",
      "  app.launch_new_instance()\n"
     ]
    }
   ],
   "source": [
    "folder_path = '/home/skein/kidadl/Retention Bars/'\n",
    "result = calculate_retention(folder_path=folder_path, period_from_install='1 week', times_opened=2)"
   ]
  },
  {
   "cell_type": "code",
   "execution_count": 300,
   "metadata": {},
   "outputs": [
    {
     "name": "stderr",
     "output_type": "stream",
     "text": [
      "/usr/local/lib/python3.5/dist-packages/ipykernel_launcher.py:16: FutureWarning: Sorting because non-concatenation axis is not aligned. A future version\n",
      "of pandas will change to not sort by default.\n",
      "\n",
      "To accept the future behavior, pass 'sort=False'.\n",
      "\n",
      "To retain the current behavior and silence the warning, pass 'sort=True'.\n",
      "\n",
      "  app.launch_new_instance()\n"
     ]
    },
    {
     "name": "stdout",
     "output_type": "stream",
     "text": [
      "no nannan\n",
      "no nannan\n",
      "no nannan\n",
      "no nannan\n",
      "no nannan\n",
      "no nannan\n",
      "no nannan\n"
     ]
    }
   ],
   "source": [
    "to_calc = ['1 month', '2 month', '3 week', '1 week', '2 week', '4 week', '3 month']\n",
    "folder_path = '/home/skein/kidadl/Retention Bars/'\n",
    "for period in to_calc:\n",
    "    result = calculate_retention(folder_path=folder_path, period_from_install=period, times_opened=1)\n",
    "    result.to_csv('Retention transformed/Opens app 1+ times in %s.csv' %period, index=False)"
   ]
  },
  {
   "cell_type": "code",
   "execution_count": 298,
   "metadata": {},
   "outputs": [
    {
     "data": {
      "text/plain": [
       "dict_keys(['1 month', '2 month', '3 week', '1 week', '2 week', '4 week', '3 month'])"
      ]
     },
     "execution_count": 298,
     "metadata": {},
     "output_type": "execute_result"
    }
   ],
   "source": [
    "t = {'1 week':[-1,7], '2 week': [7,14], '3 week': [14,21], '4 week': [21,28], \n",
    "              '1 month':[0,30], '2 month':[30,60], '3 month':[60,90]}\n",
    "t.keys()"
   ]
  },
  {
   "cell_type": "code",
   "execution_count": null,
   "metadata": {},
   "outputs": [],
   "source": [
    "result.to_csv('Opens app 1+ times in 1 week.csv', index=False)\n",
    "#result.to_csv('Opens app 1+ times in 2 week.csv', index=False)\n",
    "#result.to_csv('Opens app 1+ times in 3 week.csv', index=False)\n",
    "#result.to_csv('Opens app 1+ times in 4 week.csv', index=False)\n",
    "#result.to_csv('Opens app 1+ times in 1 month.csv', index=False)\n",
    "#result.to_csv('Opens app 1+ times in 2 month.csv', index=False)\n",
    "#result.to_csv('Opens app 1+ times in 3 month.csv', index=False)"
   ]
  }
 ],
 "metadata": {
  "kernelspec": {
   "display_name": "Python 3",
   "language": "python",
   "name": "python3"
  },
  "language_info": {
   "codemirror_mode": {
    "name": "ipython",
    "version": 3
   },
   "file_extension": ".py",
   "mimetype": "text/x-python",
   "name": "python",
   "nbconvert_exporter": "python",
   "pygments_lexer": "ipython3",
   "version": "3.5.2"
  }
 },
 "nbformat": 4,
 "nbformat_minor": 2
}
