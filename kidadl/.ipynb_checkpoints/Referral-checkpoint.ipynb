{
 "cells": [
  {
   "cell_type": "code",
   "execution_count": 153,
   "metadata": {
    "collapsed": true
   },
   "outputs": [],
   "source": [
    "import pandas as pd\n",
    "from pandas import ExcelWriter"
   ]
  },
  {
   "cell_type": "code",
   "execution_count": 114,
   "metadata": {
    "collapsed": true
   },
   "outputs": [],
   "source": [
    "xls = pd.ExcelFile('Revenue.xlsx')\n",
    "users = pd.read_excel(xls, 'Users-ALL')\n",
    "#orders = pd.read_excel(xls, 'orders-20190125-110139')"
   ]
  },
  {
   "cell_type": "code",
   "execution_count": 115,
   "metadata": {
    "collapsed": true
   },
   "outputs": [],
   "source": [
    "orders = pd.read_csv('orders-20190203-120228.csv')\n",
    "orders = orders[orders['userId'].notnull()]"
   ]
  },
  {
   "cell_type": "markdown",
   "metadata": {},
   "source": [
    "### Remove outliers (Kidadl stuff)"
   ]
  },
  {
   "cell_type": "code",
   "execution_count": 116,
   "metadata": {},
   "outputs": [
    {
     "data": {
      "text/plain": [
       "0       19150\n",
       "1         186\n",
       "2          61\n",
       "3          28\n",
       "5          24\n",
       "4          16\n",
       "6           3\n",
       "15          2\n",
       "10          2\n",
       "109         1\n",
       "1131        1\n",
       "267         1\n",
       "8           1\n",
       "418         1\n",
       "Name: inviteLimit.used, dtype: int64"
      ]
     },
     "execution_count": 116,
     "metadata": {},
     "output_type": "execute_result"
    }
   ],
   "source": [
    "users['inviteLimit.used'].value_counts()"
   ]
  },
  {
   "cell_type": "code",
   "execution_count": 117,
   "metadata": {
    "collapsed": true
   },
   "outputs": [],
   "source": [
    "users = users[users['inviteLimit.used'] < 9]"
   ]
  },
  {
   "cell_type": "code",
   "execution_count": 118,
   "metadata": {},
   "outputs": [],
   "source": [
    "users['registration_date'] = users['createdAt'].apply(lambda x: x.date())"
   ]
  },
  {
   "cell_type": "markdown",
   "metadata": {},
   "source": [
    "### Remove unnecessary columns"
   ]
  },
  {
   "cell_type": "code",
   "execution_count": 119,
   "metadata": {
    "collapsed": true
   },
   "outputs": [],
   "source": [
    "cols_to_use = ['userEmailId', 'registration_date', 'firstName', 'lastName',\n",
    "       'facebookId', 'firebaseId', 'userMobileNo', 'interests',\n",
    "       'inviteCode', 'referralCode']"
   ]
  },
  {
   "cell_type": "code",
   "execution_count": 120,
   "metadata": {
    "collapsed": true
   },
   "outputs": [],
   "source": [
    "users = users[cols_to_use]"
   ]
  },
  {
   "cell_type": "markdown",
   "metadata": {},
   "source": [
    "# Refers 1+ users who completes interests"
   ]
  },
  {
   "cell_type": "code",
   "execution_count": 121,
   "metadata": {
    "collapsed": true
   },
   "outputs": [],
   "source": [
    "invited_users = users[users['referralCode'].notnull()]"
   ]
  },
  {
   "cell_type": "code",
   "execution_count": 122,
   "metadata": {
    "collapsed": true
   },
   "outputs": [],
   "source": [
    "# remove users, who not completed interests\n",
    "invited_users = invited_users[invited_users['interests'].notnull()]"
   ]
  },
  {
   "cell_type": "code",
   "execution_count": 123,
   "metadata": {},
   "outputs": [],
   "source": [
    "used_codes = invited_users['referralCode'].values\n",
    "users['refers 1+ with interests'] = users.apply(lambda row: 1 if row['inviteCode'] in used_codes else 0,\n",
    "                                                axis=1)"
   ]
  },
  {
   "cell_type": "code",
   "execution_count": 124,
   "metadata": {},
   "outputs": [],
   "source": [
    "interests = users[users['refers 1+ with interests']==1]\n",
    "interests = interests.groupby('registration_date').size().reset_index(name='users')"
   ]
  },
  {
   "cell_type": "code",
   "execution_count": 125,
   "metadata": {},
   "outputs": [
    {
     "data": {
      "text/plain": [
       "353"
      ]
     },
     "execution_count": 125,
     "metadata": {},
     "output_type": "execute_result"
    }
   ],
   "source": [
    "interests['users'].sum()"
   ]
  },
  {
   "cell_type": "markdown",
   "metadata": {},
   "source": [
    "# Refers 1+ users who presses  Check Out button"
   ]
  },
  {
   "cell_type": "code",
   "execution_count": 126,
   "metadata": {
    "collapsed": true
   },
   "outputs": [],
   "source": [
    "orders['email'] = orders['userId'].apply(lambda x: x.split(' ')[0])"
   ]
  },
  {
   "cell_type": "code",
   "execution_count": 130,
   "metadata": {},
   "outputs": [],
   "source": [
    "users_in_orders = orders['email'].values\n",
    "users['is_in_orders'] = users['userEmailId'].apply(lambda x: 1 if x in users_in_orders else 0)"
   ]
  },
  {
   "cell_type": "code",
   "execution_count": 138,
   "metadata": {},
   "outputs": [],
   "source": [
    "users_with_orders = users[users['is_in_orders']==1]\n",
    "users_with_orders = users_with_orders[users_with_orders['referralCode'].notnull()]\n",
    "users_with_orders = users_with_orders['referralCode'].values"
   ]
  },
  {
   "cell_type": "code",
   "execution_count": 140,
   "metadata": {},
   "outputs": [],
   "source": [
    "users['refers 1+ with check out'] = users.apply(lambda row: 1 if row['inviteCode'] in users_with_orders else 0,\n",
    "                                                axis=1)\n",
    "check_out = users[users['refers 1+ with check out']==1]\n",
    "check_out = check_out.groupby('registration_date').size().reset_index(name='users')"
   ]
  },
  {
   "cell_type": "code",
   "execution_count": 142,
   "metadata": {},
   "outputs": [
    {
     "data": {
      "text/plain": [
       "55"
      ]
     },
     "execution_count": 142,
     "metadata": {},
     "output_type": "execute_result"
    }
   ],
   "source": [
    "check_out['users'].sum()"
   ]
  },
  {
   "cell_type": "markdown",
   "metadata": {},
   "source": [
    "# Refers 1+ users who makes purchase"
   ]
  },
  {
   "cell_type": "code",
   "execution_count": 146,
   "metadata": {
    "collapsed": true
   },
   "outputs": [],
   "source": [
    "users_with_purchase = orders[orders['thirdPartyTransactionStatus']=='Purchased']\n",
    "users_with_purchase = users_with_purchase['email'].values\n",
    "users['has_purchase'] = users['userEmailId'].apply(lambda x: 1 if x in users_with_purchase else 0)"
   ]
  },
  {
   "cell_type": "code",
   "execution_count": 149,
   "metadata": {},
   "outputs": [],
   "source": [
    "refferals_with_purchase = users[users['has_purchase']==1]\n",
    "refferals_with_purchase = refferals_with_purchase[refferals_with_purchase['referralCode'].notnull()]\n",
    "refferals_with_purchase = refferals_with_purchase['referralCode'].values"
   ]
  },
  {
   "cell_type": "code",
   "execution_count": 150,
   "metadata": {},
   "outputs": [],
   "source": [
    "users['refers 1+ with purchase'] = users.apply(lambda row: 1 if row['inviteCode'] in refferals_with_purchase \n",
    "                                               else 0, axis=1)\n",
    "purchase = users[users['refers 1+ with purchase']==1]\n",
    "purchase = purchase.groupby('registration_date').size().reset_index(name='users')"
   ]
  },
  {
   "cell_type": "code",
   "execution_count": 152,
   "metadata": {},
   "outputs": [
    {
     "data": {
      "text/plain": [
       "20"
      ]
     },
     "execution_count": 152,
     "metadata": {},
     "output_type": "execute_result"
    }
   ],
   "source": [
    "purchase['users'].sum()"
   ]
  },
  {
   "cell_type": "markdown",
   "metadata": {},
   "source": [
    "# Write data to xslx"
   ]
  },
  {
   "cell_type": "code",
   "execution_count": 159,
   "metadata": {},
   "outputs": [],
   "source": [
    "with ExcelWriter('Referral transformed.xlsx') as writer:\n",
    "    interests.to_excel(writer,'interests')\n",
    "    check_out.to_excel(writer,'Check Out')\n",
    "    purchase.to_excel(writer,'purchase')\n",
    "    writer.save()"
   ]
  },
  {
   "cell_type": "code",
   "execution_count": 160,
   "metadata": {},
   "outputs": [
    {
     "data": {
      "text/html": [
       "<div>\n",
       "<table border=\"1\" class=\"dataframe\">\n",
       "  <thead>\n",
       "    <tr style=\"text-align: right;\">\n",
       "      <th></th>\n",
       "      <th>registration_date</th>\n",
       "      <th>users</th>\n",
       "    </tr>\n",
       "  </thead>\n",
       "  <tbody>\n",
       "    <tr>\n",
       "      <th>0</th>\n",
       "      <td>2017-10-23</td>\n",
       "      <td>3</td>\n",
       "    </tr>\n",
       "    <tr>\n",
       "      <th>1</th>\n",
       "      <td>2017-10-25</td>\n",
       "      <td>12</td>\n",
       "    </tr>\n",
       "    <tr>\n",
       "      <th>2</th>\n",
       "      <td>2017-10-27</td>\n",
       "      <td>1</td>\n",
       "    </tr>\n",
       "    <tr>\n",
       "      <th>3</th>\n",
       "      <td>2017-10-28</td>\n",
       "      <td>5</td>\n",
       "    </tr>\n",
       "    <tr>\n",
       "      <th>4</th>\n",
       "      <td>2017-10-29</td>\n",
       "      <td>2</td>\n",
       "    </tr>\n",
       "  </tbody>\n",
       "</table>\n",
       "</div>"
      ],
      "text/plain": [
       "  registration_date  users\n",
       "0        2017-10-23      3\n",
       "1        2017-10-25     12\n",
       "2        2017-10-27      1\n",
       "3        2017-10-28      5\n",
       "4        2017-10-29      2"
      ]
     },
     "execution_count": 160,
     "metadata": {},
     "output_type": "execute_result"
    }
   ],
   "source": [
    "interests.head()"
   ]
  },
  {
   "cell_type": "code",
   "execution_count": null,
   "metadata": {
    "collapsed": true
   },
   "outputs": [],
   "source": []
  }
 ],
 "metadata": {
  "kernelspec": {
   "display_name": "Python 3",
   "language": "python",
   "name": "python3"
  },
  "language_info": {
   "codemirror_mode": {
    "name": "ipython",
    "version": 3
   },
   "file_extension": ".py",
   "mimetype": "text/x-python",
   "name": "python",
   "nbconvert_exporter": "python",
   "pygments_lexer": "ipython3",
   "version": "3.5.2"
  }
 },
 "nbformat": 4,
 "nbformat_minor": 2
}
